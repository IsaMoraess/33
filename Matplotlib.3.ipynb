{
 "cells": [
  {
   "cell_type": "markdown",
   "id": "a7961b45",
   "metadata": {},
   "source": [
    "# Grafico de Dispersão\n",
    "\n",
    "Tambem conhecido como grafico de pontos, é um tipo de plotagem utilizado para representar a relação entre duas variaveis continuas. Cada ponto no grafico de dispersão representa um par de valores das duas variáveis, onde uma variável é plotada no eixo horizontal e outra no eixo vertical."
   ]
  },
  {
   "cell_type": "code",
   "execution_count": null,
   "id": "9918ed73",
   "metadata": {},
   "outputs": [],
   "source": [
    "x = [1,2,3,4,5,6,7,8]\n",
    "y = [5,2,4,5,6,8,4,8]"
   ]
  },
  {
   "cell_type": "code",
   "execution_count": null,
   "id": "231ee4ed",
   "metadata": {},
   "outputs": [],
   "source": [
    "plt.acatter(x, y, label = 'Pontos', color = 'black', marker = 'o')\n",
    "plt.legend()\n",
    "plt.show()"
   ]
  },
  {
   "cell_type": "markdown",
   "id": "7ee5f294",
   "metadata": {},
   "source": [
    "# Grafico de Área Empilhada\n",
    "\n",
    "Stack plots, tambem conhecido como graficos de area empilhada, sao um tipo de plotagem usados para visualizar a mudança relativa de diversas variaveis ao longo do tempo. Eles consistem em varias areas coloridas empilhadas umas sobre as outras, onde a altura de cada area representa a magnitude da variavel corresponde a largura representa a escala de tempo.\n",
    "\n",
    "Os Stack plots são uteis para msotrar como as partes contribuem para o todo ao longo do tempo. Por exemplo, eles podem ser usados para visualizar a mudança relativa de diferentes setores de uma industria ao longo do tempo, ou a distribuição relativa de receitas e despesas de uma empresa em um determinado período."
   ]
  },
  {
   "cell_type": "code",
   "execution_count": null,
   "id": "17c8138c",
   "metadata": {},
   "outputs": [],
   "source": [
    "dias = [1,2,3,4,5]\n",
    "dormir = [7,8,6,77,7]\n",
    "comer = [2,3,4,5,3]\n",
    "trabalhar = [7,8,7,2,2]\n",
    "passear = [8,5,7,8,13]"
   ]
  },
  {
   "cell_type": "code",
   "execution_count": null,
   "id": "554aee64",
   "metadata": {},
   "outputs": [],
   "source": [
    "plt.stackplot(dias, dormir, comer, trabalhar, passear, colors = ['m','c','r','k','b'])\n",
    "plt.show()"
   ]
  },
  {
   "cell_type": "markdown",
   "id": "4ac6e242",
   "metadata": {},
   "source": [
    "# Grafico de Pizza\n",
    "\n",
    "O (Pie Plot), tambem conhecido como grafico de setores, é um tipo de plotagem que representa a composição de uma variavel categorica em relaçaão ao todo. Ele é representado por um circulo dividido em fatias que reprsentam as proporções relativas das categorias.\n",
    "\n",
    "Cada fatia do grafico de pizza corresponde a uma categoria e sua area é  proporcional á porcentagem que a categoria representa do todo. A categoria  mais representativa e geralmente posicionada na parte superior do circulo, enquanto as outars fatias são posicionadas em sentido horario. "
   ]
  },
  {
   "cell_type": "code",
   "execution_count": null,
   "id": "bb828eae",
   "metadata": {},
   "outputs": [],
   "source": [
    "fatias = [7, 2, 2, 13]\n",
    "atividades = ['dormir', 'comer', 'passear', 'trabalhar']\n",
    "cores = ['olive', 'lime', 'violet', 'royalblue']"
   ]
  },
  {
   "cell_type": "code",
   "execution_count": null,
   "id": "37cdb5ea",
   "metadata": {},
   "outputs": [],
   "source": [
    "plt.pie(fatias, labels = atividades, colors = cores, startangle = 90, shadow = True, explode = (0,0.2,0,0))"
   ]
  },
  {
   "cell_type": "markdown",
   "id": "a06fe5c9",
   "metadata": {},
   "source": [
    "# Criando Graficos Customizados com Pylab\n",
    "\n",
    "É um modulo fornecido pela biblioteca Matplotilib que combina a funcionalidade do pacote NumPy com a funcionalidade do pacote pyplot. Ele fornece um ambiente de plotagem interativo, permitido que os usuarios criem rapidamente graficos e visualização de dados.\n",
    "\n",
    "O módulo Pylab inclui muitas funções úteis para plotagem de graficos, como funções para criar  graficos de linha, graficos de dispersão, graficos de barras, graficos de pizza, histogramas e muito mais."
   ]
  },
  {
   "cell_type": "code",
   "execution_count": null,
   "id": "d25a889a",
   "metadata": {},
   "outputs": [],
   "source": [
    "# O Pylab comnbina funcionalidades do pyplot com funcionalidades do Numpy \n",
    "from pylab import *\n",
    "%matplotlib inline"
   ]
  }
 ],
 "metadata": {
  "kernelspec": {
   "display_name": "Python 3 (ipykernel)",
   "language": "python",
   "name": "python3"
  },
  "language_info": {
   "codemirror_mode": {
    "name": "ipython",
    "version": 3
   },
   "file_extension": ".py",
   "mimetype": "text/x-python",
   "name": "python",
   "nbconvert_exporter": "python",
   "pygments_lexer": "ipython3",
   "version": "3.9.13"
  }
 },
 "nbformat": 4,
 "nbformat_minor": 5
}
